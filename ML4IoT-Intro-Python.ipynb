{
 "cells": [
  {
   "cell_type": "markdown",
   "metadata": {},
   "source": [
    "<center>\n",
    "<a href=\"http://www.insa-toulouse.fr/\" ><img src=\"http://www.math.univ-toulouse.fr/~besse/Wikistat/Images/logo-insa.jpg\" style=\"float:left; max-width: 130px; display: inline\" alt=\"INSA\"/></a> \n",
    "\n",
    "\n",
    "<a href=\"https://openclassrooms.com/\" ><img src=\"https://upload.wikimedia.org/wikipedia/fr/0/0d/Logo_OpenClassrooms.png\" style=\"float:right; max-width: 80px; display: inline\" alt=\"open Classrooms\"/> </a>\n",
    "</center>"
   ]
  },
  {
   "cell_type": "markdown",
   "metadata": {},
   "source": [
    "#  Apprentissage Automatique: Valoriser les Données d'Objets Connectés\n",
    "\n",
    "**Remarque**\n",
    "Le contenu de ce tutoriel surpasse les besoins nécessaire au suivi du MOOC. Néanmoins il vous sera utile si vous souhaitez comprendre le contenu des tutoriels de Science des Données écrits en python et sert donc de référence à ce sujet. De toute façon quelques compétences en Python sont bienvenues compte tenu de la place que prend ce langage dans beaucoup d'entreprises."
   ]
  },
  {
   "cell_type": "markdown",
   "metadata": {},
   "source": [
    "# Introduction à <a href=\"https://www.python.org/\"><img src=\"https://upload.wikimedia.org/wikipedia/commons/thumb/f/f8/Python_logo_and_wordmark.svg/390px-Python_logo_and_wordmark.svg.png\" style=\"max-width: 150px; display: inline\" alt=\"Python\"/></a> pour Calcul Scientifique"
   ]
  },
  {
   "cell_type": "markdown",
   "metadata": {},
   "source": [
    "**Résumé**\n",
    "Présentation de pyhton, exécution de commandes interactives ou de scripts avec un IDE, utilisation d'un calepin; les types et structures élémentaires de données, les structures de contrôle, les fonctions, classes et modules. Introduction à l'utilisation des librairies scientifiques: `Numpy, Matplotlib, Scipy` et au type `array` associé."
   ]
  },
  {
   "cell_type": "markdown",
   "metadata": {},
   "source": [
    "## Introduction\n",
    "\n",
    "### Prérequis\n",
    "Ce calepin introduit le langage libre Python et décrit les premières commandes nécessaires au pré-traitement des données avant l'utilisation de méthodes statistiques ou d'apprentissage automatique. \n",
    "\n",
    "Pour des approfondissements, il existe de très nombreuses ressources pédagogiques accessibles sur la toile dont le [tutoriel officiel](https://docs.python.org/3/tutorial/index.html) de Python 3.4., les sites [`pythontutor.com`](http://pythontutor.com/), [`courspython.com`](http://www.courspython.com/), le livre de [Sheppard (2014)](http://www.kevinsheppard.com/images/0/09/Python_introduction.pdf) qui présentent une introduction à Python pour l'\\'Econométrie et la Statistique et celui de [Mac Kinney (2013)](http://it-ebooks.info/book/1041/), principal auteur de la bibliothèque `pandas`. \n",
    "\n",
    "### Installation\n",
    "Python et ses librairies peuvent être installés dans quasiment tout environnement matériel et système d'exploitation à partir du [site officiel](https://www.python.org/downloads/). Voici les principales librairies scientifiques définissant des structures de données et fonctions de calcul indispensables. \n",
    "- `ipython`: pour une utilisation interactive de Python, \n",
    "- `numpy`: pour utiliser vecteurs et tableaux, \n",
    "- `scipy`: intègre les principaux algorithmes numériques, \n",
    "- `matplotlib`: pour les graphes, \n",
    "- `pandas`: structure de données et feuilles de calcul, \n",
    "- `patsy`: formules statistiques,\n",
    "- `statsmodels`: modélisation statistique,\n",
    "- `seaborn`: visualisation de données,\n",
    "- `scikit-learn`: algorithmes d'apprentissage statistique.\n",
    "\n",
    "Néanmoins, compte tenu de la complexité de l'opération, il est plus simple pour le néophyte, surtout sous Windows, de faire appel à une procédure d'installation intégrant les principales librairies. Ces procédures sont développées par des entreprises commerciales mais libres de droits pour une utilisation académique.\n",
    "- *Continuum Analytics* propose [Anaconda](https://store.continuum.io/cshop/anaconda/) avec au choix la version 3 ou celle 2.7. `Conda` est l'utilitaire (commande en ligne) qui permet les mises à jour et installations des librairies complémentaires.\n",
    "- *Enthought* propose [Canopy](https://www.enthought.com/products/canopy/) \n",
    "\n",
    "D'un point de vue légal, les propositions sont identiques mais Canopy nécessite la création d'un compte académique. Seul \"souci\", ces versions n'incluent que les versions dites stables des différentes librairies et donc avec un temps de retard vis-à-vis des versions encore développement.\n",
    "\n",
    "C'est [Anaconda](https://store.continuum.io/cshop/anaconda/) qui est utilisée ici, car préférable pour un poste personnel, en version 3.\n",
    "\n",
    "### *Google Colab*\n",
    "Il n'est en fait pas nécessaire d'installer Python sur son poste de travail pour exécuter les tutoriels; **il suffit de lancer [Google Colab](https://colab.research.google.com/notebooks/welcome.ipynb)** à partir du navigateur Chrome après s'être enregistré avec sont compte Google. Il faut également avoir auparavant installé, une fois suffit, l'extension *\"open notebook in google colab\"*. Il suffit alors d'ouvrir un tutoriel à partir d'un dépôt github puis de cliquer sur l'icône *\"open notebook in google colab\"* de *Chrome*.\n",
    "\n",
    "Le déroulement du *notebook* donc du tutoriel peut commencer...\n",
    "\n",
    "## Utilisation de Python\n",
    "Python exécute programmes ou scripts, programmes qui peuvent être pré-compilés pour plus d'efficacité. Ce langage s'exécute également à l'aide d'un interprète de commande (`IDLE`) ou {`IPython`) de manière interactive.  En situation pédagogique, c'est l'utilisation et la réalisation d'un *notebook Ipython* (calepin) ou plutôt maintenant *Jupyter* qui est privilégiée à partir d'un simple navigateur (éviter *internet explorer*).\n",
    "\n",
    "\n",
    "### Calepin *Jupyter*\n",
    "\n",
    "Les commandes sont regroupées dans des cellules suivies de leur résultat après exécution. Ces résultats et commentaires sont  stockés dans un fichier spécifique `.ipynb` et sauvegardés. Les commandes LaTeX sont acceptées pour intégrer des formules, la mise en page est assurée par des balises HTML ou [*Markdown*](http://fr.wikipedia.org/wiki/Markdown). \n",
    "\n",
    "La commande de sauvegarde permet également d'extraire les seules commandes Python dans un fichier d'extension `.py`. C'est une façon simple et efficace de conserver tout l'historique d'une analyse pour en faire une présentation ou créer un tutoriel. Le calepin peut être en effet chargé  sous un autre format: page `html`, fichier `.pdf` ou diaporama.\n",
    "\n",
    "Le projet [Jupyter](http://jupyter.org/) propose cet environnement de calepin pour beaucoup de langages (Pyhton, Julia, Scala...) dont R. Il devient un outil indispensable pour assurer simplement la *reproductibilité* des analyses. \n",
    "\n",
    "SI *Google Colab* n'est pas utilisé, l'ouverture d'un navigateur sur un calepin (Jupyter) est obtenu en exécutant l'instruction `jupyter notebook`\n",
    "dans une fenêtre de commande ou terminal.\n",
    "Une fois le calepin ouvert, \n",
    "- Entrer des commandes Python dans une cellule,\n",
    "- Cliquer sur le bouton d'exécution de la cellule.\n",
    "- Ajouter une ou des cellules de commentaires et balises HTML ou [Markdown](http://fr.wikipedia.org/wiki/Markdown).\n",
    "\n",
    "\n",
    "### Exemple\n",
    "En résumé, utiliser un calepin pour des analyses exploratoires élémentaires et un IDE `Spyder` ou `Eclipse` (un peu compliqué!) pour la construction de programmes et modules. \n",
    "\n",
    "Selon l'installation et à partir du répertoire de travail, exécuter la commande:\n",
    "\n",
    "`jupyter notebook` \n",
    " \n",
    "qui ouvre le navigateur par défaut. \n",
    "\n",
    "Exécuter cellule par cellule les commandes ci-desssous en cliquant sur le bouton d'exécution de la cellule courante."
   ]
  },
  {
   "cell_type": "code",
   "execution_count": null,
   "metadata": {
    "ExecuteTime": {
     "end_time": "2019-09-04T07:33:33.783269Z",
     "start_time": "2019-09-04T07:33:33.293319Z"
    }
   },
   "outputs": [],
   "source": [
    "# Ceci est le début d'une session Python gérée à l'aide d'un calepin.\n",
    "# Le script est divisé en cellules avec généralement l'affichage d'au plus un résultat par cellule.\n",
    "## Importer les librairies nécessaires \n",
    "import matplotlib.pyplot as plt\n",
    "import numpy as np\n",
    "import pandas as pd\n",
    "\n",
    "## Commande magique pour obtenir les graphiques dans le calepin\n",
    "%matplotlib inline"
   ]
  },
  {
   "cell_type": "code",
   "execution_count": null,
   "metadata": {
    "ExecuteTime": {
     "end_time": "2019-09-04T07:33:33.803274Z",
     "start_time": "2019-09-04T07:33:33.785491Z"
    }
   },
   "outputs": [],
   "source": [
    "#%% Créer un data frame avec pandas\n",
    "data = pd.DataFrame({\n",
    "    'Gender': ['f', 'f', 'm', 'f', 'm', 'm', 'f', 'm', 'f', 'm'],\n",
    "    'TV': [3.4, 3.5, 2.6, 4.7, 4.1, 4.0, 5.1, 4.0, 3.7, 2.1]})\n",
    "data"
   ]
  },
  {
   "cell_type": "code",
   "execution_count": null,
   "metadata": {
    "ExecuteTime": {
     "end_time": "2019-09-04T07:33:33.978796Z",
     "start_time": "2019-09-04T07:33:33.805472Z"
    }
   },
   "outputs": [],
   "source": [
    "# Génération de variables aléatoires gaussiennes\n",
    "xx = np.random.randn(100,100)\n",
    "y = np.mean(xx,0)\n",
    "# graphique\n",
    "plt.plot(y)\n",
    "plt.show()"
   ]
  },
  {
   "cell_type": "markdown",
   "metadata": {},
   "source": [
    "## Types de données\n",
    "\n",
    "### Scalaires et chaînes\n",
    "La déclaration des variables est implicite ({integer, float, boolean, string), la syntaxe est très proche de celle de R mais il n'y a pas de type `factor`."
   ]
  },
  {
   "cell_type": "code",
   "execution_count": null,
   "metadata": {
    "ExecuteTime": {
     "end_time": "2019-09-04T07:33:33.986401Z",
     "start_time": "2019-09-04T07:33:33.981418Z"
    }
   },
   "outputs": [],
   "source": [
    "a=3  # est un entier\n",
    "b=1. # est un flottant\n",
    "# Attention:\n",
    "a/2  # a pour résultat 1.5 en Python 3.4 \n",
    "     # mais 1 en 2.7"
   ]
  },
  {
   "cell_type": "markdown",
   "metadata": {},
   "source": [
    "Opérateurs de comparaison : `==, >, <, !=` de résultat booléen."
   ]
  },
  {
   "cell_type": "code",
   "execution_count": null,
   "metadata": {
    "ExecuteTime": {
     "end_time": "2019-09-04T07:33:33.994758Z",
     "start_time": "2019-09-04T07:33:33.988644Z"
    }
   },
   "outputs": [],
   "source": [
    "# Comparaison\n",
    "a==b  "
   ]
  },
  {
   "cell_type": "code",
   "execution_count": null,
   "metadata": {
    "ExecuteTime": {
     "end_time": "2019-09-04T07:33:34.004580Z",
     "start_time": "2019-09-04T07:33:33.996912Z"
    }
   },
   "outputs": [],
   "source": [
    "#  affichage et type des variables\n",
    "type(a)"
   ]
  },
  {
   "cell_type": "code",
   "execution_count": null,
   "metadata": {
    "ExecuteTime": {
     "end_time": "2019-09-04T07:33:34.011048Z",
     "start_time": "2019-09-04T07:33:34.006740Z"
    }
   },
   "outputs": [],
   "source": [
    "# Chaîne de caractère\n",
    "a='bonjour '\n",
    "b='le '\n",
    "c='monde'\n",
    "a+b+c"
   ]
  },
  {
   "cell_type": "markdown",
   "metadata": {},
   "source": [
    "Attention à l'encodage des caractères. Ce n'est pas le même en python 2 (ascii) et python 3 (utf-8). Ce n'est pas fait dans ces exemples élémentaires mais il est vivement recommander de gérer systématiquement des textes complexes avec caractères spéciaux (accents, guillements...) en utf-8"
   ]
  },
  {
   "cell_type": "code",
   "execution_count": null,
   "metadata": {
    "ExecuteTime": {
     "end_time": "2019-09-04T07:33:34.020659Z",
     "start_time": "2019-09-04T07:33:34.014698Z"
    }
   },
   "outputs": [],
   "source": [
    "a=u'bonjour' # encodage utf-8\n",
    "type(a)"
   ]
  },
  {
   "cell_type": "code",
   "execution_count": null,
   "metadata": {
    "ExecuteTime": {
     "end_time": "2019-09-04T07:33:34.028292Z",
     "start_time": "2019-09-04T07:33:34.023594Z"
    }
   },
   "outputs": [],
   "source": [
    "a='bonjour'  # encodage ascii\n",
    "type(a)"
   ]
  },
  {
   "cell_type": "markdown",
   "metadata": {},
   "source": [
    "### Structures de base\n",
    "\n",
    "#### Listes\n",
    "Les listes permettent des combinaisons de types. \n",
    "**Attention**, le premier élément d'une liste ou d'un tableau est indicé par **0**, pas par 1."
   ]
  },
  {
   "cell_type": "code",
   "execution_count": null,
   "metadata": {
    "ExecuteTime": {
     "end_time": "2019-09-04T07:33:34.036475Z",
     "start_time": "2019-09-04T07:33:34.030380Z"
    }
   },
   "outputs": [],
   "source": [
    "# exemples de listes\n",
    "liste_A = [0,3,2,'hi']\n",
    "liste_B = [0,3,2,4,5,6,1]\n",
    "liste_C = [0,3,2,'hi',[1,2,3]]    \n",
    "# Elément d'une liste \n",
    "liste_A[1]"
   ]
  },
  {
   "cell_type": "code",
   "execution_count": null,
   "metadata": {
    "ExecuteTime": {
     "end_time": "2019-09-04T07:33:34.043859Z",
     "start_time": "2019-09-04T07:33:34.038787Z"
    }
   },
   "outputs": [],
   "source": [
    "liste_C[-1] #  dernier élément"
   ]
  },
  {
   "cell_type": "code",
   "execution_count": null,
   "metadata": {
    "ExecuteTime": {
     "end_time": "2019-09-04T07:33:34.052164Z",
     "start_time": "2019-09-04T07:33:34.046132Z"
    }
   },
   "outputs": [],
   "source": [
    "liste_C[-1][0]"
   ]
  },
  {
   "cell_type": "code",
   "execution_count": null,
   "metadata": {
    "ExecuteTime": {
     "end_time": "2019-09-04T07:33:34.063690Z",
     "start_time": "2019-09-04T07:33:34.058239Z"
    }
   },
   "outputs": [],
   "source": [
    "liste_C[-2]"
   ]
  },
  {
   "cell_type": "code",
   "execution_count": null,
   "metadata": {
    "ExecuteTime": {
     "end_time": "2019-09-04T07:33:34.069199Z",
     "start_time": "2019-09-04T07:33:34.065088Z"
    }
   },
   "outputs": [],
   "source": [
    "liste_B[0:2] #  Sous-liste"
   ]
  },
  {
   "cell_type": "code",
   "execution_count": null,
   "metadata": {
    "ExecuteTime": {
     "end_time": "2019-09-04T07:33:34.075234Z",
     "start_time": "2019-09-04T07:33:34.070864Z"
    }
   },
   "outputs": [],
   "source": [
    "liste_B[0:5:2]  # début:fin:pas"
   ]
  },
  {
   "cell_type": "code",
   "execution_count": null,
   "metadata": {
    "ExecuteTime": {
     "end_time": "2019-09-04T07:33:34.081213Z",
     "start_time": "2019-09-04T07:33:34.076858Z"
    }
   },
   "outputs": [],
   "source": [
    "liste_B[::-1]"
   ]
  },
  {
   "cell_type": "code",
   "execution_count": null,
   "metadata": {
    "ExecuteTime": {
     "end_time": "2019-09-04T07:33:34.086947Z",
     "start_time": "2019-09-04T07:33:34.082946Z"
    }
   },
   "outputs": [],
   "source": [
    "# Fonctions de listes\n",
    "List=[3,2,4,1]\n",
    "List.sort() \n",
    "print(List)"
   ]
  },
  {
   "cell_type": "code",
   "execution_count": null,
   "metadata": {
    "ExecuteTime": {
     "end_time": "2019-09-04T07:33:34.092779Z",
     "start_time": "2019-09-04T07:33:34.088494Z"
    }
   },
   "outputs": [],
   "source": [
    "List.append('hi')\n",
    "print(List)"
   ]
  },
  {
   "cell_type": "code",
   "execution_count": null,
   "metadata": {
    "ExecuteTime": {
     "end_time": "2019-09-04T07:33:34.098601Z",
     "start_time": "2019-09-04T07:33:34.094318Z"
    }
   },
   "outputs": [],
   "source": [
    "List.count(3) "
   ]
  },
  {
   "cell_type": "code",
   "execution_count": null,
   "metadata": {
    "ExecuteTime": {
     "end_time": "2019-09-04T07:33:34.103452Z",
     "start_time": "2019-09-04T07:33:34.100203Z"
    }
   },
   "outputs": [],
   "source": [
    "List.extend([7,8,9])\n",
    "print(List)"
   ]
  },
  {
   "cell_type": "code",
   "execution_count": null,
   "metadata": {
    "ExecuteTime": {
     "end_time": "2019-09-04T07:33:34.108678Z",
     "start_time": "2019-09-04T07:33:34.104956Z"
    }
   },
   "outputs": [],
   "source": [
    "List.append([10,11,12])\n",
    "print(List)"
   ]
  },
  {
   "cell_type": "markdown",
   "metadata": {},
   "source": [
    "#### t-uple\n",
    "Un tuple est similaire à une liste mais ne peut être modifié, il est défini par des parenthèses."
   ]
  },
  {
   "cell_type": "code",
   "execution_count": null,
   "metadata": {
    "ExecuteTime": {
     "end_time": "2019-09-04T07:33:34.116947Z",
     "start_time": "2019-09-04T07:33:34.110284Z"
    }
   },
   "outputs": [],
   "source": [
    "MyTuple=(0,3,2,'h')\n",
    "MyTuple[1]"
   ]
  },
  {
   "cell_type": "code",
   "execution_count": null,
   "metadata": {
    "ExecuteTime": {
     "end_time": "2019-09-04T07:33:34.240633Z",
     "start_time": "2019-09-04T07:33:34.119612Z"
    }
   },
   "outputs": [],
   "source": [
    "MyTuple[1]=10 # TypeError: \"tuple\" object"
   ]
  },
  {
   "cell_type": "markdown",
   "metadata": {},
   "source": [
    "#### Dictionnaire\n",
    "Un dictionnaire est similaire à une liste mais chaque entrée est assignée par une clé / un nom, il est défini avec des accolades. Cet objet est utilisé pour la construction de l'index des colonnes (variables) du type *DataFrame* de la librairie `pandas`.\n"
   ]
  },
  {
   "cell_type": "code",
   "execution_count": null,
   "metadata": {
    "ExecuteTime": {
     "end_time": "2019-09-04T07:33:34.242850Z",
     "start_time": "2019-09-04T07:33:33.846Z"
    }
   },
   "outputs": [],
   "source": [
    "months = {'Jan':31 , 'Fev': 28, 'Mar':31}\n",
    "months['Jan'] \t"
   ]
  },
  {
   "cell_type": "code",
   "execution_count": null,
   "metadata": {
    "ExecuteTime": {
     "end_time": "2019-09-04T07:33:34.244107Z",
     "start_time": "2019-09-04T07:33:33.850Z"
    }
   },
   "outputs": [],
   "source": [
    "months.keys()"
   ]
  },
  {
   "cell_type": "code",
   "execution_count": null,
   "metadata": {
    "ExecuteTime": {
     "end_time": "2019-09-04T07:33:34.245308Z",
     "start_time": "2019-09-04T07:33:33.853Z"
    }
   },
   "outputs": [],
   "source": [
    "months.values()"
   ]
  },
  {
   "cell_type": "code",
   "execution_count": null,
   "metadata": {
    "ExecuteTime": {
     "end_time": "2019-09-04T07:33:34.246539Z",
     "start_time": "2019-09-04T07:33:33.857Z"
    }
   },
   "outputs": [],
   "source": [
    "months.items()"
   ]
  },
  {
   "cell_type": "markdown",
   "metadata": {},
   "source": [
    "## Syntaxe de Python\n",
    "\n",
    "### Structures de contrôle élémentaires\n",
    "Un bloc de commandes ou de codes est défini par *deux points suivis d'une indentation fixe*.  Cela oblige à l'écriture de codes faciles à lire mais à être très attentif sur la gestion des indentations car la fin d'indentation signifie la fin d'un bloc de commandes."
   ]
  },
  {
   "cell_type": "markdown",
   "metadata": {},
   "source": [
    "#### Structure conditionnelle"
   ]
  },
  {
   "cell_type": "code",
   "execution_count": null,
   "metadata": {
    "ExecuteTime": {
     "end_time": "2019-09-04T07:33:34.247796Z",
     "start_time": "2019-09-04T07:33:33.971Z"
    }
   },
   "outputs": [],
   "source": [
    "# si alors sinon\n",
    "a=2\n",
    "if a>0:\n",
    "    b=0\n",
    "    print(b)\n",
    "else:\n",
    "    b=-1\n",
    "print(b)"
   ]
  },
  {
   "cell_type": "markdown",
   "metadata": {},
   "source": [
    "#### Structure itérative"
   ]
  },
  {
   "cell_type": "code",
   "execution_count": null,
   "metadata": {
    "ExecuteTime": {
     "end_time": "2019-09-04T07:33:34.249105Z",
     "start_time": "2019-09-04T07:33:34.046Z"
    }
   },
   "outputs": [],
   "source": [
    "for i in range(4):\n",
    "    print(i)"
   ]
  },
  {
   "cell_type": "code",
   "execution_count": null,
   "metadata": {
    "ExecuteTime": {
     "end_time": "2019-09-04T07:33:34.250348Z",
     "start_time": "2019-09-04T07:33:34.050Z"
    }
   },
   "outputs": [],
   "source": [
    "for i in range(1,8,2):\n",
    "    print(i)"
   ]
  },
  {
   "cell_type": "code",
   "execution_count": null,
   "metadata": {
    "ExecuteTime": {
     "end_time": "2019-09-04T07:33:34.251696Z",
     "start_time": "2019-09-04T07:33:34.055Z"
    }
   },
   "outputs": [],
   "source": [
    "# Définition d'une fonction\n",
    "def pythagorus(x,y):\n",
    "    \"\"\" Calcule l'hypotenuse d'un triangle \"\"\"\n",
    "    r = pow(x**2+y**2,0.5)\n",
    "    return x,y,r\n",
    "pythagorus(3,4)"
   ]
  },
  {
   "cell_type": "markdown",
   "metadata": {},
   "source": [
    "### Fonctions"
   ]
  },
  {
   "cell_type": "code",
   "execution_count": null,
   "metadata": {
    "ExecuteTime": {
     "end_time": "2019-09-04T07:33:34.252812Z",
     "start_time": "2019-09-04T07:33:34.146Z"
    }
   },
   "outputs": [],
   "source": [
    "# exemple d'appel\n",
    "pythagorus(x=3,y=4)"
   ]
  },
  {
   "cell_type": "code",
   "execution_count": null,
   "metadata": {
    "ExecuteTime": {
     "end_time": "2019-09-04T07:33:34.253876Z",
     "start_time": "2019-09-04T07:33:34.150Z"
    }
   },
   "outputs": [],
   "source": [
    "# aide intégrée\n",
    "help(pythagorus)"
   ]
  },
  {
   "cell_type": "code",
   "execution_count": null,
   "metadata": {
    "ExecuteTime": {
     "end_time": "2019-09-04T07:33:34.254985Z",
     "start_time": "2019-09-04T07:33:34.154Z"
    }
   },
   "outputs": [],
   "source": [
    "pythagorus.__doc__"
   ]
  },
  {
   "cell_type": "code",
   "execution_count": null,
   "metadata": {
    "ExecuteTime": {
     "end_time": "2019-09-04T07:33:34.256309Z",
     "start_time": "2019-09-04T07:33:34.157Z"
    }
   },
   "outputs": [],
   "source": [
    "# Valeurs des paramètres par défaut\n",
    "def pythagorus(x=1,y=1):\n",
    "    \"\"\" calcule l'hypoténuse d'un triangle \"\"\"\n",
    "    r = pow(x**2+y**2,0.5)\n",
    "    return x,y,r\n",
    "pythagorus()"
   ]
  },
  {
   "cell_type": "markdown",
   "metadata": {},
   "source": [
    "## Calcul scientifique\n",
    "Voici trois des principales librairies indispensables au calcul scientifique. \n",
    "\n",
    "### Principales librairies ou *packages*"
   ]
  },
  {
   "cell_type": "markdown",
   "metadata": {},
   "source": [
    "#### `NumPy`\n",
    "Cette librairie définit le type de données `array` ainsi que les fonctions de calcul qui y sont associées. Il contient aussi quelques fonctions d'algèbre linéaire et statistiques. \n",
    "Il n'est finalement utilisé que pour la définition du type `array` car les fonctions numériques sont beaucoup plus développées dans  `SciPy`. \n"
   ]
  },
  {
   "cell_type": "markdown",
   "metadata": {},
   "source": [
    "#### `Matplotlib`\n",
    "Celle-ci propose des fonctions de visualisation / graphs avec des commandes proches de celles de Matlab. Aussi connue sous le nom de `pylab`. La [gallerie](http://matplotlib.org/1.3.1/gallery.html) de cette librairie propose tout un ensemble d'exemples de graphiques avec le code Python pour les générer. "
   ]
  },
  {
   "cell_type": "code",
   "execution_count": null,
   "metadata": {
    "ExecuteTime": {
     "end_time": "2019-09-04T07:33:34.520788Z",
     "start_time": "2019-09-04T07:33:34.358294Z"
    }
   },
   "outputs": [],
   "source": [
    "# Importation\n",
    "import numpy as np\n",
    "from pylab import *\n",
    "gaussian = lambda x: np.exp(-(0.5-x)**2/1.5)\n",
    "x=np.arange(-2,2.5,0.01)\n",
    "y=gaussian(x)\n",
    "plot(x,y)\n",
    "xlabel(\"x values\")\n",
    "ylabel(\"y values\")\n",
    "title(\"Gaussian function\")\n",
    "show()"
   ]
  },
  {
   "cell_type": "markdown",
   "metadata": {},
   "source": [
    "#### `SciPy`\n",
    "Cette librairie est un ensemble très complet de modules d'algèbre linéaire, statistiques et autres algorithmes numériques. Le site  de la documentation en fournit la [liste](http://docs.scipy.org/doc/scipy/reference). "
   ]
  },
  {
   "cell_type": "markdown",
   "metadata": {},
   "source": [
    "### Type Array\n",
    "C'est de loin la structure de données la plus utilisée pour le calcul scientifique sous Python. Elle décrit des tableaux ou *matrices* multi-indices de dimension $ n = 1, 2, 3, \\ldots , 40$. Tous les éléments sont de même type (booléen, entier, réel, complexe). \n",
    "\n",
    "Il est possible de contrôler précisément le type d'un `array`, par exemple pour gagner  de la place en mémoire, en codant les entiers sur 8, 16, 32 ou 64 bits, de même pour les réels (*float*) ou les complexes.\n",
    "\n",
    "Les tableaux ou tables de données (*data frame*), bases d'analyses statistiques et regroupant des objets de types différents  sont décrits avec la librairie `pandas`.\n",
    "#### Définition du type `array`"
   ]
  },
  {
   "cell_type": "code",
   "execution_count": null,
   "metadata": {
    "ExecuteTime": {
     "end_time": "2019-09-04T07:33:34.527110Z",
     "start_time": "2019-09-04T07:33:34.523193Z"
    }
   },
   "outputs": [],
   "source": [
    "# Importation\n",
    "import numpy as np\n",
    "my_1D_array = np.array([4,3,2])\n",
    "print(my_1D_array)"
   ]
  },
  {
   "cell_type": "code",
   "execution_count": null,
   "metadata": {
    "ExecuteTime": {
     "end_time": "2019-09-04T07:33:34.534321Z",
     "start_time": "2019-09-04T07:33:34.530139Z"
    }
   },
   "outputs": [],
   "source": [
    "my_2D_array = np.array([[1,0,0],[0,2,0],[0,0,3]])\n",
    "print(my_2D_array)"
   ]
  },
  {
   "cell_type": "code",
   "execution_count": null,
   "metadata": {
    "ExecuteTime": {
     "end_time": "2019-09-04T07:33:34.541199Z",
     "start_time": "2019-09-04T07:33:34.537020Z"
    }
   },
   "outputs": [],
   "source": [
    "myList=[1,2,3]\n",
    "my_array = np.array(myList)\n",
    "print(my_array)"
   ]
  },
  {
   "cell_type": "code",
   "execution_count": null,
   "metadata": {
    "ExecuteTime": {
     "end_time": "2019-09-04T07:33:34.549478Z",
     "start_time": "2019-09-04T07:33:34.545060Z"
    }
   },
   "outputs": [],
   "source": [
    "a=np.array([[0,1],[2,3],[4,5]])\n",
    "a[2,1]"
   ]
  },
  {
   "cell_type": "code",
   "execution_count": null,
   "metadata": {
    "ExecuteTime": {
     "end_time": "2019-09-04T07:33:34.560090Z",
     "start_time": "2019-09-04T07:33:34.551912Z"
    }
   },
   "outputs": [],
   "source": [
    "a[:,1]"
   ]
  },
  {
   "cell_type": "markdown",
   "metadata": {},
   "source": [
    "#### Fonctions de type `array`"
   ]
  },
  {
   "cell_type": "code",
   "execution_count": null,
   "metadata": {
    "ExecuteTime": {
     "end_time": "2019-09-04T07:33:34.583988Z",
     "start_time": "2019-09-04T07:33:34.580037Z"
    }
   },
   "outputs": [],
   "source": [
    "np.arange(5)"
   ]
  },
  {
   "cell_type": "code",
   "execution_count": null,
   "metadata": {
    "ExecuteTime": {
     "end_time": "2019-09-04T07:33:34.593579Z",
     "start_time": "2019-09-04T07:33:34.589883Z"
    }
   },
   "outputs": [],
   "source": [
    "np.ones(3)"
   ]
  },
  {
   "cell_type": "code",
   "execution_count": null,
   "metadata": {
    "ExecuteTime": {
     "end_time": "2019-09-04T07:33:34.600403Z",
     "start_time": "2019-09-04T07:33:34.596120Z"
    }
   },
   "outputs": [],
   "source": [
    "np.ones((3,4))"
   ]
  },
  {
   "cell_type": "code",
   "execution_count": null,
   "metadata": {
    "ExecuteTime": {
     "end_time": "2019-09-04T07:33:34.608428Z",
     "start_time": "2019-09-04T07:33:34.604272Z"
    }
   },
   "outputs": [],
   "source": [
    "np.eye(3)"
   ]
  },
  {
   "cell_type": "code",
   "execution_count": null,
   "metadata": {
    "ExecuteTime": {
     "end_time": "2019-09-04T07:33:34.615388Z",
     "start_time": "2019-09-04T07:33:34.610203Z"
    }
   },
   "outputs": [],
   "source": [
    "np.linspace(3, 7, 3)"
   ]
  },
  {
   "cell_type": "code",
   "execution_count": null,
   "metadata": {
    "ExecuteTime": {
     "end_time": "2019-09-04T07:33:34.621845Z",
     "start_time": "2019-09-04T07:33:34.617484Z"
    }
   },
   "outputs": [],
   "source": [
    "np.mgrid[0:3,0:2]"
   ]
  },
  {
   "cell_type": "code",
   "execution_count": null,
   "metadata": {
    "ExecuteTime": {
     "end_time": "2019-09-04T07:33:34.628009Z",
     "start_time": "2019-09-04T07:33:34.624029Z"
    }
   },
   "outputs": [],
   "source": [
    "D=np.diag([1,2,4,3])\n",
    "print(D)\n",
    "print(np.diag(D))"
   ]
  },
  {
   "cell_type": "code",
   "execution_count": null,
   "metadata": {
    "ExecuteTime": {
     "end_time": "2019-09-04T07:33:34.635146Z",
     "start_time": "2019-09-04T07:33:34.630920Z"
    }
   },
   "outputs": [],
   "source": [
    "M=np.array([[10*n+m for n in range(3)] \n",
    "for m in range(2)]) \n",
    "print(M)"
   ]
  },
  {
   "cell_type": "markdown",
   "metadata": {},
   "source": [
    "Le module `numpy.random` fournit toute une liste de fonctions pour la génération de matrices aléatoires."
   ]
  },
  {
   "cell_type": "code",
   "execution_count": null,
   "metadata": {
    "ExecuteTime": {
     "end_time": "2019-09-04T07:33:34.697835Z",
     "start_time": "2019-09-04T07:33:34.693201Z"
    }
   },
   "outputs": [],
   "source": [
    "from numpy import random\n",
    "random.rand(4,2) #tirage uniforme"
   ]
  },
  {
   "cell_type": "code",
   "execution_count": null,
   "metadata": {
    "ExecuteTime": {
     "end_time": "2019-09-04T07:33:34.705466Z",
     "start_time": "2019-09-04T07:33:34.701406Z"
    }
   },
   "outputs": [],
   "source": [
    "random.randn(4,2) #tirage selon la loi N(0,1)"
   ]
  },
  {
   "cell_type": "code",
   "execution_count": null,
   "metadata": {
    "ExecuteTime": {
     "end_time": "2019-09-04T07:33:34.898378Z",
     "start_time": "2019-09-04T07:33:34.707216Z"
    }
   },
   "outputs": [],
   "source": [
    "v=random.randn(1000)\n",
    "import matplotlib.pyplot as plt\n",
    "h=plt.hist(v,20) # histogramme à 20 pas\n",
    "show()"
   ]
  },
  {
   "cell_type": "code",
   "execution_count": null,
   "metadata": {
    "ExecuteTime": {
     "end_time": "2019-09-04T07:33:35.058924Z",
     "start_time": "2019-09-04T07:33:34.900573Z"
    }
   },
   "outputs": [],
   "source": [
    "A=random.randn(64,64)\n",
    "plt.imshow(A,interpolation=\"nearest\")\n",
    "plt.colorbar\n",
    "plt.show()"
   ]
  },
  {
   "cell_type": "code",
   "execution_count": null,
   "metadata": {
    "ExecuteTime": {
     "end_time": "2019-09-04T07:33:35.065519Z",
     "start_time": "2019-09-04T07:33:35.060886Z"
    }
   },
   "outputs": [],
   "source": [
    "# Sauver, écrire dans un fichier, lire un fichier\n",
    "M=random.randn(10,10)\n",
    "np.savetxt('data.csv',M,fmt='%2.2f',delimiter=',')\n",
    "#au format propre à numpy : npy"
   ]
  },
  {
   "cell_type": "code",
   "execution_count": null,
   "metadata": {
    "ExecuteTime": {
     "end_time": "2019-09-04T07:33:35.075181Z",
     "start_time": "2019-09-04T07:33:35.068148Z"
    }
   },
   "outputs": [],
   "source": [
    "np.save('data.npy',M)\n",
    "np.load('data.npy')"
   ]
  },
  {
   "cell_type": "markdown",
   "metadata": {},
   "source": [
    "#### *Slicing*"
   ]
  },
  {
   "cell_type": "code",
   "execution_count": null,
   "metadata": {
    "ExecuteTime": {
     "end_time": "2019-09-04T07:33:35.082999Z",
     "start_time": "2019-09-04T07:33:35.077940Z"
    }
   },
   "outputs": [],
   "source": [
    "v=np.array([1,2,3,4,5])\n",
    "print(v)"
   ]
  },
  {
   "cell_type": "code",
   "execution_count": null,
   "metadata": {
    "ExecuteTime": {
     "end_time": "2019-09-04T07:33:35.091629Z",
     "start_time": "2019-09-04T07:33:35.085508Z"
    }
   },
   "outputs": [],
   "source": [
    "v[1:4]"
   ]
  },
  {
   "cell_type": "code",
   "execution_count": null,
   "metadata": {
    "ExecuteTime": {
     "end_time": "2019-09-04T07:33:35.099009Z",
     "start_time": "2019-09-04T07:33:35.094390Z"
    }
   },
   "outputs": [],
   "source": [
    "v[1:4:2]"
   ]
  },
  {
   "cell_type": "code",
   "execution_count": null,
   "metadata": {
    "ExecuteTime": {
     "end_time": "2019-09-04T07:33:35.110782Z",
     "start_time": "2019-09-04T07:33:35.102744Z"
    }
   },
   "outputs": [],
   "source": [
    "v[::]"
   ]
  },
  {
   "cell_type": "code",
   "execution_count": null,
   "metadata": {
    "ExecuteTime": {
     "end_time": "2019-09-04T07:33:35.119460Z",
     "start_time": "2019-09-04T07:33:35.113920Z"
    }
   },
   "outputs": [],
   "source": [
    "v[ : :2] # par pas de 2"
   ]
  },
  {
   "cell_type": "code",
   "execution_count": null,
   "metadata": {
    "ExecuteTime": {
     "end_time": "2019-09-04T07:33:35.126772Z",
     "start_time": "2019-09-04T07:33:35.122054Z"
    }
   },
   "outputs": [],
   "source": [
    "v[ : 3] "
   ]
  },
  {
   "cell_type": "code",
   "execution_count": null,
   "metadata": {
    "ExecuteTime": {
     "end_time": "2019-09-04T07:33:35.134117Z",
     "start_time": "2019-09-04T07:33:35.129680Z"
    }
   },
   "outputs": [],
   "source": [
    "v[3 :] # à partir de l'indice 3"
   ]
  },
  {
   "cell_type": "code",
   "execution_count": null,
   "metadata": {
    "ExecuteTime": {
     "end_time": "2019-09-04T07:33:35.142075Z",
     "start_time": "2019-09-04T07:33:35.136345Z"
    }
   },
   "outputs": [],
   "source": [
    "v[-1] # dernier élément"
   ]
  },
  {
   "cell_type": "code",
   "execution_count": null,
   "metadata": {
    "ExecuteTime": {
     "end_time": "2019-09-04T07:33:35.181696Z",
     "start_time": "2019-09-04T07:33:35.144058Z"
    }
   },
   "outputs": [],
   "source": [
    "v[-2 :] # deux derniers éléments "
   ]
  },
  {
   "cell_type": "code",
   "execution_count": null,
   "metadata": {
    "ExecuteTime": {
     "end_time": "2019-09-04T07:33:35.188971Z",
     "start_time": "2019-09-04T07:33:35.184196Z"
    }
   },
   "outputs": [],
   "source": [
    "M=random.rand(4,3) \n",
    "print(M)"
   ]
  },
  {
   "cell_type": "code",
   "execution_count": null,
   "metadata": {
    "ExecuteTime": {
     "end_time": "2019-09-04T07:33:35.197442Z",
     "start_time": "2019-09-04T07:33:35.191545Z"
    }
   },
   "outputs": [],
   "source": [
    "ind=[1,2]\n",
    "M[ind] # lignes d'indices 1 et 2"
   ]
  },
  {
   "cell_type": "code",
   "execution_count": null,
   "metadata": {
    "ExecuteTime": {
     "end_time": "2019-09-04T07:33:35.205668Z",
     "start_time": "2019-09-04T07:33:35.200019Z"
    }
   },
   "outputs": [],
   "source": [
    "M[:,ind] # colonnes d'indices 1 et 2"
   ]
  },
  {
   "cell_type": "code",
   "execution_count": null,
   "metadata": {
    "ExecuteTime": {
     "end_time": "2019-09-04T07:33:35.213457Z",
     "start_time": "2019-09-04T07:33:35.207847Z"
    }
   },
   "outputs": [],
   "source": [
    "M[[0,2],[1,2]] # renvoie M[0,1] et M[2,2]"
   ]
  },
  {
   "cell_type": "code",
   "execution_count": null,
   "metadata": {
    "ExecuteTime": {
     "end_time": "2019-09-04T07:33:35.221300Z",
     "start_time": "2019-09-04T07:33:35.215141Z"
    }
   },
   "outputs": [],
   "source": [
    "M[np.ix_([0,2],[1,2])]"
   ]
  },
  {
   "cell_type": "code",
   "execution_count": null,
   "metadata": {
    "ExecuteTime": {
     "end_time": "2019-09-04T07:33:35.227407Z",
     "start_time": "2019-09-04T07:33:35.222993Z"
    }
   },
   "outputs": [],
   "source": [
    "(M>0.5)"
   ]
  },
  {
   "cell_type": "code",
   "execution_count": null,
   "metadata": {
    "ExecuteTime": {
     "end_time": "2019-09-04T07:33:35.233622Z",
     "start_time": "2019-09-04T07:33:35.229122Z"
    }
   },
   "outputs": [],
   "source": [
    "M[M>0.5]"
   ]
  },
  {
   "cell_type": "markdown",
   "metadata": {},
   "source": [
    "#### Autres fonctions"
   ]
  },
  {
   "cell_type": "code",
   "execution_count": null,
   "metadata": {
    "ExecuteTime": {
     "end_time": "2019-09-04T07:33:35.239950Z",
     "start_time": "2019-09-04T07:33:35.235226Z"
    }
   },
   "outputs": [],
   "source": [
    "a=np.array([[0,1],[2,3],[4,5]])\n",
    "np.ndim(a) # Nombre de dimensions)"
   ]
  },
  {
   "cell_type": "code",
   "execution_count": null,
   "metadata": {
    "ExecuteTime": {
     "end_time": "2019-09-04T07:33:35.245697Z",
     "start_time": "2019-09-04T07:33:35.241533Z"
    }
   },
   "outputs": [],
   "source": [
    "np.size(a) # Nombre d’éléments"
   ]
  },
  {
   "cell_type": "code",
   "execution_count": null,
   "metadata": {
    "ExecuteTime": {
     "end_time": "2019-09-04T07:33:35.256470Z",
     "start_time": "2019-09-04T07:33:35.248380Z"
    }
   },
   "outputs": [],
   "source": [
    "np.shape(a) # Tuple contenant la dimension de a"
   ]
  },
  {
   "cell_type": "code",
   "execution_count": null,
   "metadata": {
    "ExecuteTime": {
     "end_time": "2019-09-04T07:33:35.265649Z",
     "start_time": "2019-09-04T07:33:35.258723Z"
    }
   },
   "outputs": [],
   "source": [
    "np.transpose(a) # Transposée"
   ]
  },
  {
   "cell_type": "code",
   "execution_count": null,
   "metadata": {
    "ExecuteTime": {
     "end_time": "2019-09-04T07:33:35.273162Z",
     "start_time": "2019-09-04T07:33:35.268309Z"
    }
   },
   "outputs": [],
   "source": [
    "a.T # autre façon de définir la transposée"
   ]
  },
  {
   "cell_type": "code",
   "execution_count": null,
   "metadata": {
    "ExecuteTime": {
     "end_time": "2019-09-04T07:33:35.281628Z",
     "start_time": "2019-09-04T07:33:35.275546Z"
    }
   },
   "outputs": [],
   "source": [
    "a.min(), np.min(a)  # Valeur min"
   ]
  },
  {
   "cell_type": "code",
   "execution_count": null,
   "metadata": {
    "ExecuteTime": {
     "end_time": "2019-09-04T07:33:35.290912Z",
     "start_time": "2019-09-04T07:33:35.283839Z"
    }
   },
   "outputs": [],
   "source": [
    "a.sum(), np.sum(a)  # Somme des valeurs"
   ]
  },
  {
   "cell_type": "code",
   "execution_count": null,
   "metadata": {
    "ExecuteTime": {
     "end_time": "2019-09-04T07:33:35.301005Z",
     "start_time": "2019-09-04T07:33:35.293147Z"
    }
   },
   "outputs": [],
   "source": [
    "a.sum(axis=0)  # Somme sur les colonnes"
   ]
  },
  {
   "cell_type": "code",
   "execution_count": null,
   "metadata": {
    "ExecuteTime": {
     "end_time": "2019-09-04T07:33:35.307716Z",
     "start_time": "2019-09-04T07:33:35.303164Z"
    }
   },
   "outputs": [],
   "source": [
    "a.sum(axis=1)  # sur les lignes"
   ]
  },
  {
   "cell_type": "markdown",
   "metadata": {},
   "source": [
    "Quelques manipulations:"
   ]
  },
  {
   "cell_type": "code",
   "execution_count": null,
   "metadata": {
    "ExecuteTime": {
     "end_time": "2019-09-04T07:33:35.314384Z",
     "start_time": "2019-09-04T07:33:35.309986Z"
    }
   },
   "outputs": [],
   "source": [
    "np.r_[1:4,10,11]  # Concaténation en ligne"
   ]
  },
  {
   "cell_type": "code",
   "execution_count": null,
   "metadata": {
    "ExecuteTime": {
     "end_time": "2019-09-04T07:33:35.323646Z",
     "start_time": "2019-09-04T07:33:35.316681Z"
    }
   },
   "outputs": [],
   "source": [
    "np.c_[1:4,11:14]  # Concaténation en colonne"
   ]
  },
  {
   "cell_type": "code",
   "execution_count": null,
   "metadata": {
    "ExecuteTime": {
     "end_time": "2019-09-04T07:33:59.750797Z",
     "start_time": "2019-09-04T07:33:59.720052Z"
    }
   },
   "outputs": [],
   "source": [
    "np.c_[1:4,11:15]  # erreur"
   ]
  },
  {
   "cell_type": "code",
   "execution_count": null,
   "metadata": {
    "ExecuteTime": {
     "end_time": "2019-09-04T07:33:59.753764Z",
     "start_time": "2019-09-04T07:33:59.735Z"
    }
   },
   "outputs": [],
   "source": [
    "np.arange(6).reshape(3,2)"
   ]
  },
  {
   "cell_type": "code",
   "execution_count": null,
   "metadata": {
    "ExecuteTime": {
     "end_time": "2019-09-04T07:33:59.755523Z",
     "start_time": "2019-09-04T07:33:59.743Z"
    }
   },
   "outputs": [],
   "source": [
    "A=np.array([[1,2],[3,4]])\n",
    "np.tile(A,(3,2)) # Répétition de la matrice A"
   ]
  },
  {
   "cell_type": "code",
   "execution_count": null,
   "metadata": {
    "ExecuteTime": {
     "end_time": "2019-09-04T07:33:59.757248Z",
     "start_time": "2019-09-04T07:33:59.750Z"
    }
   },
   "outputs": [],
   "source": [
    "A=np.array([[1,2],[3,4]])\n",
    "B=np.array([[11,12],[13,14]])\n",
    "#Concaténation en ligne\n",
    "np.concatenate((A,B),axis=0)"
   ]
  },
  {
   "cell_type": "code",
   "execution_count": null,
   "metadata": {
    "ExecuteTime": {
     "end_time": "2019-09-04T07:33:59.871594Z",
     "start_time": "2019-09-04T07:33:59.861239Z"
    }
   },
   "outputs": [],
   "source": [
    "# Equivalent à\n",
    "np.vstack((A,B))"
   ]
  },
  {
   "cell_type": "code",
   "execution_count": null,
   "metadata": {
    "ExecuteTime": {
     "end_time": "2019-09-04T07:33:59.874091Z",
     "start_time": "2019-09-04T07:33:59.766Z"
    }
   },
   "outputs": [],
   "source": [
    "# Concaténation en colonne\n",
    "np.concatenate((A,B),axis=1)"
   ]
  },
  {
   "cell_type": "code",
   "execution_count": null,
   "metadata": {
    "ExecuteTime": {
     "end_time": "2019-09-04T07:33:59.875810Z",
     "start_time": "2019-09-04T07:33:59.771Z"
    }
   },
   "outputs": [],
   "source": [
    "# Equivalent à\n",
    "np.hstack((A,B))"
   ]
  },
  {
   "cell_type": "markdown",
   "metadata": {},
   "source": [
    "#### Opérations sur les `array`s"
   ]
  },
  {
   "cell_type": "code",
   "execution_count": null,
   "metadata": {
    "ExecuteTime": {
     "end_time": "2019-09-04T07:33:59.984038Z",
     "start_time": "2019-09-04T07:33:59.978205Z"
    }
   },
   "outputs": [],
   "source": [
    "# somme\n",
    "a=np.arange(6).reshape(3,2)\n",
    "b=np.arange(3,9).reshape(3,2)\n",
    "c=np.transpose(b)\n",
    "a+b"
   ]
  },
  {
   "cell_type": "code",
   "execution_count": null,
   "metadata": {
    "ExecuteTime": {
     "end_time": "2019-09-04T07:33:59.997914Z",
     "start_time": "2019-09-04T07:33:59.986450Z"
    }
   },
   "outputs": [],
   "source": [
    "a*b # produit terme à terme"
   ]
  },
  {
   "cell_type": "code",
   "execution_count": null,
   "metadata": {
    "ExecuteTime": {
     "end_time": "2019-09-04T07:34:00.005990Z",
     "start_time": "2019-09-04T07:34:00.001901Z"
    }
   },
   "outputs": [],
   "source": [
    "np.dot(a,c) # produit matriciel"
   ]
  },
  {
   "cell_type": "code",
   "execution_count": null,
   "metadata": {
    "ExecuteTime": {
     "end_time": "2019-09-04T07:34:00.012769Z",
     "start_time": "2019-09-04T07:34:00.008333Z"
    }
   },
   "outputs": [],
   "source": [
    "np.power(a,2)"
   ]
  },
  {
   "cell_type": "code",
   "execution_count": null,
   "metadata": {
    "ExecuteTime": {
     "end_time": "2019-09-04T07:34:00.019885Z",
     "start_time": "2019-09-04T07:34:00.015174Z"
    }
   },
   "outputs": [],
   "source": [
    "np.power(2,a)"
   ]
  },
  {
   "cell_type": "code",
   "execution_count": null,
   "metadata": {
    "ExecuteTime": {
     "end_time": "2019-09-04T07:34:00.028753Z",
     "start_time": "2019-09-04T07:34:00.022207Z"
    }
   },
   "outputs": [],
   "source": [
    "a/3"
   ]
  },
  {
   "cell_type": "markdown",
   "metadata": {},
   "source": [
    "Les fonctions `genfromtxt`, `avetxt` permettent de lire, écrire des fichiers textes par exemple au format `.csv` mais ces fonctionnalités sont plus largement abordées avec la librairie `pandas`."
   ]
  },
  {
   "cell_type": "markdown",
   "metadata": {},
   "source": [
    "#### Fonctions d'algèbre linéaire"
   ]
  },
  {
   "cell_type": "code",
   "execution_count": null,
   "metadata": {
    "ExecuteTime": {
     "end_time": "2019-09-04T07:34:00.107125Z",
     "start_time": "2019-09-04T07:34:00.101081Z"
    }
   },
   "outputs": [],
   "source": [
    "# Importation\n",
    "import numpy as np\n",
    "from scipy import linalg\n",
    "A = np.array([[1,2],[3,4]])\n",
    "linalg.inv(A)"
   ]
  },
  {
   "cell_type": "code",
   "execution_count": null,
   "metadata": {
    "ExecuteTime": {
     "end_time": "2019-09-04T07:34:00.115549Z",
     "start_time": "2019-09-04T07:34:00.111758Z"
    }
   },
   "outputs": [],
   "source": [
    "linalg.det(A)"
   ]
  },
  {
   "cell_type": "code",
   "execution_count": null,
   "metadata": {
    "ExecuteTime": {
     "end_time": "2019-09-04T07:34:00.122968Z",
     "start_time": "2019-09-04T07:34:00.119186Z"
    }
   },
   "outputs": [],
   "source": [
    "la,v = linalg.eig(A)\n",
    "l1,l2 = la\n",
    "# valeurs propres\n",
    "print(l1, l2)"
   ]
  },
  {
   "cell_type": "code",
   "execution_count": null,
   "metadata": {
    "ExecuteTime": {
     "end_time": "2019-09-04T07:34:00.128704Z",
     "start_time": "2019-09-04T07:34:00.125071Z"
    }
   },
   "outputs": [],
   "source": [
    "# 1er vecteur propre\n",
    "print(v[:,0])"
   ]
  },
  {
   "cell_type": "code",
   "execution_count": null,
   "metadata": {
    "ExecuteTime": {
     "end_time": "2019-09-04T07:34:00.135072Z",
     "start_time": "2019-09-04T07:34:00.131040Z"
    }
   },
   "outputs": [],
   "source": [
    "# SVD de A\n",
    "U,s,V = linalg.svd(A) \n",
    "print(s**2)"
   ]
  },
  {
   "cell_type": "code",
   "execution_count": null,
   "metadata": {
    "ExecuteTime": {
     "end_time": "2019-09-04T07:34:00.144504Z",
     "start_time": "2019-09-04T07:34:00.139154Z"
    }
   },
   "outputs": [],
   "source": [
    "linalg.eig(np.dot(np.transpose(A),A))"
   ]
  },
  {
   "cell_type": "markdown",
   "metadata": {},
   "source": [
    "#### Tests élémentaires de Statistique"
   ]
  },
  {
   "cell_type": "code",
   "execution_count": null,
   "metadata": {
    "ExecuteTime": {
     "end_time": "2019-09-04T07:34:00.216840Z",
     "start_time": "2019-09-04T07:34:00.209240Z"
    }
   },
   "outputs": [],
   "source": [
    "# Importation\n",
    "import scipy.stats\n",
    "rvs1 = scipy.stats.norm.rvs(loc=5, scale=10,size=500)\n",
    "rvs2 = scipy.stats.norm.rvs(loc=5, scale=10,size=500)\n",
    "rvs3 = scipy.stats.norm.rvs(loc=8, scale=10,size=500)\n",
    "# t-test returns: t-statistic/two-tailed p-value\n",
    "scipy.stats.ttest_ind(rvs1, rvs2)"
   ]
  },
  {
   "cell_type": "code",
   "execution_count": null,
   "metadata": {
    "ExecuteTime": {
     "end_time": "2019-09-04T07:34:00.227629Z",
     "start_time": "2019-09-04T07:34:00.219857Z"
    }
   },
   "outputs": [],
   "source": [
    "scipy.stats.ttest_ind(rvs1, rvs3)"
   ]
  },
  {
   "cell_type": "code",
   "execution_count": null,
   "metadata": {
    "ExecuteTime": {
     "end_time": "2019-09-04T07:34:00.235171Z",
     "start_time": "2019-09-04T07:34:00.230232Z"
    }
   },
   "outputs": [],
   "source": [
    "# Kolmogorov-Smirnov test\n",
    "# returns: KS statistic / two-tailed p-value\n",
    "scipy.stats.ks_2samp(rvs1, rvs2)"
   ]
  },
  {
   "cell_type": "code",
   "execution_count": null,
   "metadata": {
    "ExecuteTime": {
     "end_time": "2019-09-04T07:34:00.242229Z",
     "start_time": "2019-09-04T07:34:00.237808Z"
    }
   },
   "outputs": [],
   "source": [
    "scipy.stats.ks_2samp(rvs1, rvs3)"
   ]
  },
  {
   "cell_type": "markdown",
   "metadata": {},
   "source": [
    "## Références\n",
    "\n",
    "**Mac Kinney W.** (2013). *Python for Data Analysis*, O’Reilly. [pdf](http://it-ebooks.info/book/104)\n",
    "\n",
    "**Sheppard K.** (2014). *Introduction to Python for Econometrics, Statistics and Data Analysis*, [pdf](https://www.kevinsheppard.com/images/0/09/Python_introduction.pdf)"
   ]
  }
 ],
 "metadata": {
  "hide_input": false,
  "kernelspec": {
   "display_name": "Python 3",
   "language": "python",
   "name": "python3"
  },
  "language_info": {
   "codemirror_mode": {
    "name": "ipython",
    "version": 3
   },
   "file_extension": ".py",
   "mimetype": "text/x-python",
   "name": "python",
   "nbconvert_exporter": "python",
   "pygments_lexer": "ipython3",
   "version": "3.7.3"
  },
  "latex_envs": {
   "LaTeX_envs_menu_present": true,
   "autoclose": false,
   "autocomplete": true,
   "bibliofile": "biblio.bib",
   "cite_by": "apalike",
   "current_citInitial": 1,
   "eqLabelWithNumbers": true,
   "eqNumInitial": 1,
   "hotkeys": {
    "equation": "Ctrl-E",
    "itemize": "Ctrl-I"
   },
   "labels_anchors": false,
   "latex_user_defs": false,
   "report_style_numbering": false,
   "user_envs_cfg": false
  },
  "toc": {
   "base_numbering": 1,
   "nav_menu": {
    "height": "512px",
    "width": "252px"
   },
   "number_sections": true,
   "sideBar": true,
   "skip_h1_title": true,
   "title_cell": "Table of Contents",
   "title_sidebar": "Contents",
   "toc_cell": false,
   "toc_position": {},
   "toc_section_display": "block",
   "toc_window_display": true
  }
 },
 "nbformat": 4,
 "nbformat_minor": 1
}
